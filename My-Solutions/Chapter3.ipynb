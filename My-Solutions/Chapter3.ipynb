{
 "cells": [
  {
   "cell_type": "code",
   "execution_count": 1,
   "id": "74684b00-814b-4db4-ac89-5718408043d9",
   "metadata": {},
   "outputs": [
    {
     "name": "stdout",
     "output_type": "stream",
     "text": [
      "Hello World\n"
     ]
    }
   ],
   "source": [
    "print(\"Hello World\")"
   ]
  },
  {
   "cell_type": "code",
   "execution_count": 2,
   "id": "961f38ee-4775-4a2c-ba24-3fd04a0bc910",
   "metadata": {},
   "outputs": [],
   "source": [
    "a = 5\n"
   ]
  },
  {
   "cell_type": "code",
   "execution_count": 3,
   "id": "3d7d6a26",
   "metadata": {},
   "outputs": [],
   "source": [
    "my_list = [1, 2, 3, 4, 5, 6, 7, 8, 9, 10, 11, 12, 13, 14, 15, 16, 17, 18, 19, 20]"
   ]
  },
  {
   "cell_type": "code",
   "execution_count": 4,
   "id": "3bd67a49",
   "metadata": {},
   "outputs": [
    {
     "data": {
      "text/plain": [
       "[20, 19, 18, 17, 16, 15, 14, 13, 12, 11, 10, 9, 8, 7, 6, 5, 4, 3, 2, 1]"
      ]
     },
     "execution_count": 4,
     "metadata": {},
     "output_type": "execute_result"
    }
   ],
   "source": [
    "my_list[::-1]"
   ]
  },
  {
   "cell_type": "code",
   "execution_count": 5,
   "id": "3a7bfb6b",
   "metadata": {},
   "outputs": [
    {
     "name": "stdout",
     "output_type": "stream",
     "text": [
      "0 -> 1\n",
      "1 -> 2\n",
      "2 -> 3\n",
      "3 -> 4\n",
      "4 -> 5\n",
      "5 -> 6\n",
      "6 -> 7\n",
      "7 -> 8\n",
      "8 -> 9\n",
      "9 -> 10\n",
      "10 -> 11\n",
      "11 -> 12\n",
      "12 -> 13\n",
      "13 -> 14\n",
      "14 -> 15\n",
      "15 -> 16\n",
      "16 -> 17\n",
      "17 -> 18\n",
      "18 -> 19\n",
      "19 -> 20\n"
     ]
    }
   ],
   "source": [
    "\n",
    "for i,val in enumerate(my_list):\n",
    "    print(f\"{i} -> {val}\")\n"
   ]
  },
  {
   "cell_type": "code",
   "execution_count": 6,
   "id": "70e30ccf",
   "metadata": {},
   "outputs": [],
   "source": [
    "seq1 = [\"Akshat\",\"Ishita\",\"Anshul\"]"
   ]
  },
  {
   "cell_type": "code",
   "execution_count": 7,
   "id": "d9d18e06",
   "metadata": {},
   "outputs": [],
   "source": [
    "seq2  = [1,2,3]"
   ]
  },
  {
   "cell_type": "code",
   "execution_count": 8,
   "id": "56e5b4b0",
   "metadata": {},
   "outputs": [
    {
     "data": {
      "text/plain": [
       "<zip at 0x7ef228f890c0>"
      ]
     },
     "execution_count": 8,
     "metadata": {},
     "output_type": "execute_result"
    }
   ],
   "source": [
    "zipped = zip(seq1,seq2)\n",
    "zipped"
   ]
  },
  {
   "cell_type": "code",
   "execution_count": 9,
   "id": "011ea162",
   "metadata": {},
   "outputs": [
    {
     "data": {
      "text/plain": [
       "[('Akshat', 1), ('Ishita', 2), ('Anshul', 3)]"
      ]
     },
     "execution_count": 9,
     "metadata": {},
     "output_type": "execute_result"
    }
   ],
   "source": [
    "list(zipped)"
   ]
  },
  {
   "cell_type": "code",
   "execution_count": 10,
   "id": "351f3276",
   "metadata": {},
   "outputs": [],
   "source": [
    "arr = [1,2,4,5,6,7,8,9,10]"
   ]
  },
  {
   "cell_type": "code",
   "execution_count": 11,
   "id": "9da26514",
   "metadata": {},
   "outputs": [
    {
     "data": {
      "text/plain": [
       "8"
      ]
     },
     "execution_count": 11,
     "metadata": {},
     "output_type": "execute_result"
    }
   ],
   "source": [
    "import bisect\n",
    "\n",
    "bisect.bisect(arr,9)"
   ]
  },
  {
   "cell_type": "code",
   "execution_count": 12,
   "id": "de36c310",
   "metadata": {},
   "outputs": [],
   "source": [
    "bisect.insort(arr,7)"
   ]
  },
  {
   "cell_type": "code",
   "execution_count": 13,
   "id": "4358e664",
   "metadata": {},
   "outputs": [
    {
     "data": {
      "text/plain": [
       "[1, 2, 4, 5, 6, 7, 7, 8, 9, 10]"
      ]
     },
     "execution_count": 13,
     "metadata": {},
     "output_type": "execute_result"
    }
   ],
   "source": [
    "arr"
   ]
  },
  {
   "cell_type": "code",
   "execution_count": 14,
   "id": "cc9eb852",
   "metadata": {},
   "outputs": [],
   "source": [
    "bisect.insort(arr,3)"
   ]
  },
  {
   "cell_type": "code",
   "execution_count": 15,
   "id": "5b308359",
   "metadata": {},
   "outputs": [
    {
     "data": {
      "text/plain": [
       "[1, 2, 3, 4, 5, 6, 7, 7, 8, 9, 10]"
      ]
     },
     "execution_count": 15,
     "metadata": {},
     "output_type": "execute_result"
    }
   ],
   "source": [
    "arr"
   ]
  },
  {
   "cell_type": "code",
   "execution_count": 16,
   "id": "36fad505",
   "metadata": {},
   "outputs": [
    {
     "data": {
      "text/plain": [
       "[3, 4]"
      ]
     },
     "execution_count": 16,
     "metadata": {},
     "output_type": "execute_result"
    }
   ],
   "source": [
    "arr[2:4]"
   ]
  },
  {
   "cell_type": "code",
   "execution_count": 17,
   "id": "f72d91da",
   "metadata": {},
   "outputs": [
    {
     "data": {
      "text/plain": [
       "[1, 2, 3, 4, 88, 99, 100, 200, 7, 8, 9, 10]"
      ]
     },
     "execution_count": 17,
     "metadata": {},
     "output_type": "execute_result"
    }
   ],
   "source": [
    "seq = [1,2,3,4,5,6,7,8,9,10]\n",
    "seq[4:6] = [88,99,100,200]\n",
    "seq"
   ]
  },
  {
   "cell_type": "code",
   "execution_count": 18,
   "id": "f8dcffa5",
   "metadata": {},
   "outputs": [
    {
     "name": "stdout",
     "output_type": "stream",
     "text": [
      "[10, 3]\n",
      "[1, 4, 7, 10]\n"
     ]
    },
    {
     "data": {
      "text/plain": [
       "{0: 'Akshat', 1: 'ishita', 2: 'anshul'}"
      ]
     },
     "execution_count": 18,
     "metadata": {},
     "output_type": "execute_result"
    }
   ],
   "source": [
    "seq = [1,2,3,4,5,6,7,8,9,10]\n",
    "print(seq[::-7])\n",
    "print(seq[::3])\n",
    "\n",
    "names = [\"Akshat\",\"ishita\",\"anshul\"]\n",
    "\n",
    "my_dict = {}\n",
    "\n",
    "for i,value in enumerate(names):\n",
    "    my_dict[i] = value\n",
    "    \n",
    "my_dict\n",
    "\n"
   ]
  },
  {
   "cell_type": "code",
   "execution_count": 19,
   "id": "da563dcf",
   "metadata": {},
   "outputs": [
    {
     "name": "stdout",
     "output_type": "stream",
     "text": [
      "[9, 10, 9, 8, 7, 6, 5, 4, 3, 2, 1]\n"
     ]
    },
    {
     "data": {
      "text/plain": [
       "[1, 2, 3, 4, 5, 6, 7, 8, 9, 9, 10]"
      ]
     },
     "execution_count": 19,
     "metadata": {},
     "output_type": "execute_result"
    }
   ],
   "source": [
    "seq = [1,2,3,4,5,6,7,8,9,10,9]\n",
    "\n",
    "print(list(reversed(seq)))\n",
    "\n",
    "seq.sort()\n",
    "seq"
   ]
  },
  {
   "cell_type": "code",
   "execution_count": 20,
   "id": "3fb06c6e",
   "metadata": {},
   "outputs": [],
   "source": [
    "d1  = {\n",
    "    'a' : 'some value', 'b' : 'another value', 'c' : [1,2,3,4]\n",
    "}"
   ]
  },
  {
   "cell_type": "code",
   "execution_count": 21,
   "id": "f3c48bea",
   "metadata": {},
   "outputs": [
    {
     "data": {
      "text/plain": [
       "{'a': 'some value', 'b': 'another value', 'c': [1, 2, 3, 4]}"
      ]
     },
     "execution_count": 21,
     "metadata": {},
     "output_type": "execute_result"
    }
   ],
   "source": [
    "d1"
   ]
  },
  {
   "cell_type": "code",
   "execution_count": 22,
   "id": "c2c3c021",
   "metadata": {},
   "outputs": [],
   "source": [
    "d1[7] = [7,77,777,7777,77777,777777,7777777]"
   ]
  },
  {
   "cell_type": "code",
   "execution_count": 23,
   "id": "e5930166",
   "metadata": {},
   "outputs": [
    {
     "data": {
      "text/plain": [
       "{'a': 'some value',\n",
       " 'b': 'another value',\n",
       " 'c': [1, 2, 3, 4],\n",
       " 7: [7, 77, 777, 7777, 77777, 777777, 7777777]}"
      ]
     },
     "execution_count": 23,
     "metadata": {},
     "output_type": "execute_result"
    }
   ],
   "source": [
    "d1"
   ]
  },
  {
   "cell_type": "code",
   "execution_count": 24,
   "id": "7a5292f5",
   "metadata": {},
   "outputs": [
    {
     "data": {
      "text/plain": [
       "'another value'"
      ]
     },
     "execution_count": 24,
     "metadata": {},
     "output_type": "execute_result"
    }
   ],
   "source": [
    "d1['b']"
   ]
  },
  {
   "cell_type": "code",
   "execution_count": 25,
   "id": "97faf610",
   "metadata": {},
   "outputs": [
    {
     "data": {
      "text/plain": [
       "True"
      ]
     },
     "execution_count": 25,
     "metadata": {},
     "output_type": "execute_result"
    }
   ],
   "source": [
    "7 in d1"
   ]
  },
  {
   "cell_type": "code",
   "execution_count": 26,
   "id": "501cf31b",
   "metadata": {},
   "outputs": [],
   "source": [
    "d1['dummy'] = \"dummy value !\""
   ]
  },
  {
   "cell_type": "code",
   "execution_count": 27,
   "id": "4947cb81",
   "metadata": {},
   "outputs": [
    {
     "data": {
      "text/plain": [
       "{'a': 'some value',\n",
       " 'b': 'another value',\n",
       " 'c': [1, 2, 3, 4],\n",
       " 7: [7, 77, 777, 7777, 77777, 777777, 7777777],\n",
       " 'dummy': 'dummy value !'}"
      ]
     },
     "execution_count": 27,
     "metadata": {},
     "output_type": "execute_result"
    }
   ],
   "source": [
    "d1"
   ]
  },
  {
   "cell_type": "code",
   "execution_count": 28,
   "id": "dfba1fc9",
   "metadata": {},
   "outputs": [],
   "source": [
    "del d1['a']"
   ]
  },
  {
   "cell_type": "code",
   "execution_count": 29,
   "id": "ce081a96",
   "metadata": {},
   "outputs": [
    {
     "data": {
      "text/plain": [
       "{'b': 'another value',\n",
       " 'c': [1, 2, 3, 4],\n",
       " 7: [7, 77, 777, 7777, 77777, 777777, 7777777],\n",
       " 'dummy': 'dummy value !'}"
      ]
     },
     "execution_count": 29,
     "metadata": {},
     "output_type": "execute_result"
    }
   ],
   "source": [
    "d1"
   ]
  },
  {
   "cell_type": "code",
   "execution_count": 30,
   "id": "6fca2e6c",
   "metadata": {},
   "outputs": [
    {
     "data": {
      "text/plain": [
       "'dummy value !'"
      ]
     },
     "execution_count": 30,
     "metadata": {},
     "output_type": "execute_result"
    }
   ],
   "source": [
    "d1.pop('dummy')"
   ]
  },
  {
   "cell_type": "code",
   "execution_count": 31,
   "id": "a8d94183",
   "metadata": {},
   "outputs": [
    {
     "data": {
      "text/plain": [
       "['b', 'c', 7]"
      ]
     },
     "execution_count": 31,
     "metadata": {},
     "output_type": "execute_result"
    }
   ],
   "source": [
    "list(d1.keys())"
   ]
  },
  {
   "cell_type": "code",
   "execution_count": 32,
   "id": "d504451e",
   "metadata": {},
   "outputs": [
    {
     "data": {
      "text/plain": [
       "['another value', [1, 2, 3, 4], [7, 77, 777, 7777, 77777, 777777, 7777777]]"
      ]
     },
     "execution_count": 32,
     "metadata": {},
     "output_type": "execute_result"
    }
   ],
   "source": [
    "list(d1.values())"
   ]
  },
  {
   "cell_type": "code",
   "execution_count": 33,
   "id": "7395f7f0",
   "metadata": {},
   "outputs": [],
   "source": [
    "seq1 = [\"alpha\",\"beta\",\"gamma\"]\n",
    "seq2 = [\"akshat\",\"ishita\",\"anshul\"]"
   ]
  },
  {
   "cell_type": "code",
   "execution_count": 34,
   "id": "ee224973",
   "metadata": {},
   "outputs": [],
   "source": [
    "myset = {1,2,2,3,4,4,4,5,6,6,7,8,8,8,9,9,9,9,10,10}"
   ]
  },
  {
   "cell_type": "code",
   "execution_count": 35,
   "id": "c19bbd4e",
   "metadata": {},
   "outputs": [
    {
     "data": {
      "text/plain": [
       "{1, 2, 3, 4, 5, 6, 7, 8, 9, 10}"
      ]
     },
     "execution_count": 35,
     "metadata": {},
     "output_type": "execute_result"
    }
   ],
   "source": [
    "myset"
   ]
  },
  {
   "cell_type": "code",
   "execution_count": 36,
   "id": "31b5f2c8",
   "metadata": {},
   "outputs": [],
   "source": [
    "a = {1,2,3,4,5,6,7,8}\n",
    "b = {3,4,5,6,7,8,9}"
   ]
  },
  {
   "cell_type": "code",
   "execution_count": 37,
   "id": "dce92d65",
   "metadata": {},
   "outputs": [
    {
     "data": {
      "text/plain": [
       "{1, 2, 3, 4, 5, 6, 7, 8, 9}"
      ]
     },
     "execution_count": 37,
     "metadata": {},
     "output_type": "execute_result"
    }
   ],
   "source": [
    "a | b"
   ]
  },
  {
   "cell_type": "code",
   "execution_count": 38,
   "id": "06cbb1cd",
   "metadata": {},
   "outputs": [
    {
     "data": {
      "text/plain": [
       "{1, 2, 3, 4, 5, 6, 7, 8, 9}"
      ]
     },
     "execution_count": 38,
     "metadata": {},
     "output_type": "execute_result"
    }
   ],
   "source": [
    "b.union(a)"
   ]
  },
  {
   "cell_type": "code",
   "execution_count": 39,
   "id": "b260c8ca",
   "metadata": {},
   "outputs": [
    {
     "data": {
      "text/plain": [
       "{3, 4, 5, 6, 7, 8}"
      ]
     },
     "execution_count": 39,
     "metadata": {},
     "output_type": "execute_result"
    }
   ],
   "source": [
    "a & b"
   ]
  },
  {
   "cell_type": "code",
   "execution_count": 40,
   "id": "3d0fb91d",
   "metadata": {},
   "outputs": [
    {
     "data": {
      "text/plain": [
       "{3, 4, 5, 6, 7, 8}"
      ]
     },
     "execution_count": 40,
     "metadata": {},
     "output_type": "execute_result"
    }
   ],
   "source": [
    "a.intersection(b)"
   ]
  },
  {
   "cell_type": "code",
   "execution_count": 41,
   "id": "c4e79fc8",
   "metadata": {},
   "outputs": [
    {
     "data": {
      "text/plain": [
       "1"
      ]
     },
     "execution_count": 41,
     "metadata": {},
     "output_type": "execute_result"
    }
   ],
   "source": [
    "a.pop()"
   ]
  },
  {
   "cell_type": "code",
   "execution_count": 42,
   "id": "d2db1df7",
   "metadata": {},
   "outputs": [
    {
     "data": {
      "text/plain": [
       "2"
      ]
     },
     "execution_count": 42,
     "metadata": {},
     "output_type": "execute_result"
    }
   ],
   "source": [
    "a.pop()"
   ]
  },
  {
   "cell_type": "code",
   "execution_count": 43,
   "id": "a50e009c",
   "metadata": {},
   "outputs": [
    {
     "data": {
      "text/plain": [
       "3"
      ]
     },
     "execution_count": 43,
     "metadata": {},
     "output_type": "execute_result"
    }
   ],
   "source": [
    "b.pop()"
   ]
  },
  {
   "cell_type": "code",
   "execution_count": 44,
   "id": "82822941",
   "metadata": {},
   "outputs": [],
   "source": [
    "a = a | b"
   ]
  },
  {
   "cell_type": "code",
   "execution_count": 45,
   "id": "981efe6f",
   "metadata": {},
   "outputs": [
    {
     "data": {
      "text/plain": [
       "{3, 4, 5, 6, 7, 8, 9}"
      ]
     },
     "execution_count": 45,
     "metadata": {},
     "output_type": "execute_result"
    }
   ],
   "source": [
    "a"
   ]
  },
  {
   "cell_type": "code",
   "execution_count": 49,
   "id": "3878e0c7",
   "metadata": {},
   "outputs": [],
   "source": [
    "myset = {tuple([1,2,3])}"
   ]
  },
  {
   "cell_type": "code",
   "execution_count": 48,
   "id": "70b07768",
   "metadata": {},
   "outputs": [
    {
     "data": {
      "text/plain": [
       "529344067295497451"
      ]
     },
     "execution_count": 48,
     "metadata": {},
     "output_type": "execute_result"
    }
   ],
   "source": [
    "hash(tuple([1,2,3]))"
   ]
  },
  {
   "cell_type": "code",
   "execution_count": 50,
   "id": "04ea065a",
   "metadata": {},
   "outputs": [
    {
     "data": {
      "text/plain": [
       "{(1, 2, 3)}"
      ]
     },
     "execution_count": 50,
     "metadata": {},
     "output_type": "execute_result"
    }
   ],
   "source": [
    "myset"
   ]
  },
  {
   "cell_type": "markdown",
   "id": "c0edfe4f",
   "metadata": {},
   "source": [
    "# List, Set and Dict comprehensions"
   ]
  },
  {
   "cell_type": "code",
   "execution_count": 51,
   "id": "e2eaf854",
   "metadata": {},
   "outputs": [],
   "source": [
    "items = [\"akshat\",\"ishita\",\"anshul\",\"sudesh\",\"ally\",\"two\",\"one\",\"to\",\"o\"]"
   ]
  },
  {
   "cell_type": "code",
   "execution_count": 59,
   "id": "ce436d21",
   "metadata": {},
   "outputs": [
    {
     "data": {
      "text/plain": [
       "['AKSHAT PROCCESED',\n",
       " 'ISHITA PROCCESED',\n",
       " 'ANSHUL PROCCESED',\n",
       " 'SUDESH PROCCESED',\n",
       " 'ALLY PROCCESED']"
      ]
     },
     "execution_count": 59,
     "metadata": {},
     "output_type": "execute_result"
    }
   ],
   "source": [
    "[val.upper() +\" \"+\"proccesed\".upper() for val in items if len(val) > 3]"
   ]
  },
  {
   "cell_type": "code",
   "execution_count": 60,
   "id": "9cf54609",
   "metadata": {},
   "outputs": [],
   "source": [
    "unique_lengths = {len(val) for val in items}"
   ]
  },
  {
   "cell_type": "code",
   "execution_count": 61,
   "id": "a41cf9ca",
   "metadata": {},
   "outputs": [
    {
     "data": {
      "text/plain": [
       "{1, 2, 3, 4, 6}"
      ]
     },
     "execution_count": 61,
     "metadata": {},
     "output_type": "execute_result"
    }
   ],
   "source": [
    "unique_lengths"
   ]
  },
  {
   "cell_type": "code",
   "execution_count": 62,
   "id": "9ac13da2",
   "metadata": {},
   "outputs": [],
   "source": [
    "name_dict = {index : val for index,val in enumerate(items)}"
   ]
  },
  {
   "cell_type": "code",
   "execution_count": 63,
   "id": "3d976a4f",
   "metadata": {},
   "outputs": [
    {
     "data": {
      "text/plain": [
       "{0: 'akshat',\n",
       " 1: 'ishita',\n",
       " 2: 'anshul',\n",
       " 3: 'sudesh',\n",
       " 4: 'ally',\n",
       " 5: 'two',\n",
       " 6: 'one',\n",
       " 7: 'to',\n",
       " 8: 'o'}"
      ]
     },
     "execution_count": 63,
     "metadata": {},
     "output_type": "execute_result"
    }
   ],
   "source": [
    "name_dict"
   ]
  },
  {
   "cell_type": "code",
   "execution_count": null,
   "id": "05af75e6",
   "metadata": {},
   "outputs": [],
   "source": []
  }
 ],
 "metadata": {
  "kernelspec": {
   "display_name": "Python 3 (ipykernel)",
   "language": "python",
   "name": "python3"
  },
  "language_info": {
   "codemirror_mode": {
    "name": "ipython",
    "version": 3
   },
   "file_extension": ".py",
   "mimetype": "text/x-python",
   "name": "python",
   "nbconvert_exporter": "python",
   "pygments_lexer": "ipython3",
   "version": "3.10.12"
  }
 },
 "nbformat": 4,
 "nbformat_minor": 5
}
